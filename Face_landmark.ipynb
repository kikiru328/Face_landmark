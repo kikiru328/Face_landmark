{
 "cells": [
  {
   "cell_type": "markdown",
   "metadata": {},
   "source": [
    "# Face Landmark Detection using python\n",
    "    - https://towardsdatascience.com/face-landmark-detection-using-python-1964cb620837\n",
    "    - https://towardsdatascience.com/face-landmark-detection-using-python-1964cb620837"
   ]
  },
  {
   "cell_type": "code",
   "execution_count": 1,
   "metadata": {},
   "outputs": [],
   "source": [
    "import imutils\n",
    "from imutils import face_utils\n",
    "# import imutils\n",
    "import cv2\n",
    "# dlib = C++ lang. \n",
    "# in conda terminal, pip install cmake then pip install dlib (error, https://updaun.tistory.com/entry/python-python-37-dlib-install-error)\n",
    "import dlib \n",
    "import numpy as np"
   ]
  },
  {
   "cell_type": "code",
   "execution_count": 2,
   "metadata": {},
   "outputs": [],
   "source": [
    "# detect one more face (dlib function)\n",
    "detector = dlib.get_frontal_face_detector()\n",
    "# detecting keypoints from face. (pretrained weight - https://github.com/italojs/facial-landmarks-recognition/blob/master/shape_predictor_68_face_landmarks.dat)\n",
    "predictor = dlib.shape_predictor('./shape_predictor_68_face_landmarks.dat')\n",
    "# capturing from webcam \n",
    "cap = cv2.VideoCapture(0) #parameter == 0"
   ]
  },
  {
   "cell_type": "code",
   "execution_count": 3,
   "metadata": {},
   "outputs": [
    {
     "name": "stdout",
     "output_type": "stream",
     "text": [
      "width : 640.0, height : 480.0\n"
     ]
    }
   ],
   "source": [
    "# webcam opened?\n",
    "if cap.isOpened():\n",
    "    print(f'width : {cap.get(3)}, height : {cap.get(4)}')"
   ]
  },
  {
   "cell_type": "code",
   "execution_count": 4,
   "metadata": {},
   "outputs": [
    {
     "name": "stdout",
     "output_type": "stream",
     "text": [
      "ret True\n",
      "frame (480, 640, 3)\n"
     ]
    }
   ],
   "source": [
    "# frame == captured image\n",
    "ret, frame = cap.read()\n",
    "print('ret',ret)\n",
    "print('frame',frame.shape)"
   ]
  },
  {
   "cell_type": "markdown",
   "metadata": {},
   "source": [
    "##### Fail"
   ]
  },
  {
   "cell_type": "code",
   "execution_count": 11,
   "metadata": {},
   "outputs": [],
   "source": [
    "\n",
    "# gray  = cv2.cvtColor(frame, cv2.COLOR_BGR2GRAY)\n",
    "# cv2.imshow('video',gray) # window opened \n",
    "# # wait for seconds\n",
    "# # cv2.waitKey(5) & 0xFF # & 0xFF for 32 bits\n",
    "# rects = detector(gray,1)\n",
    "\n",
    "# for i, rect in enumerate(rects):\n",
    "#     shape = predictor(gray, rect)\n",
    "#     print(shape)\n",
    "#     shape = face_utils.shape_to_np(shape)\n",
    "#     print(shape)\n",
    "#     (x,y,w,h) = face_utils.rect_to_bb(rect)\n",
    "#     cv2.rectangle(gray,(x,y), (x+w,y+h),(0,255,0),2)\n",
    "#     for (x,y) in shape:\n",
    "#         cv2.circle(gray, (x,y), 1, (0,0,255),-1)\n",
    "        \n",
    "# # cv2.imshow(gray)\n",
    "# # cv2.waitkey(3)\n",
    "# cv2.destroyAllWindows() # closeed all windows"
   ]
  },
  {
   "cell_type": "markdown",
   "metadata": {},
   "source": [
    "##### Another"
   ]
  },
  {
   "cell_type": "code",
   "execution_count": null,
   "metadata": {},
   "outputs": [],
   "source": []
  },
  {
   "cell_type": "code",
   "execution_count": 10,
   "metadata": {},
   "outputs": [
    {
     "name": "stdout",
     "output_type": "stream",
     "text": [
      "True (480, 640, 3)\n",
      "rectangles[]\n"
     ]
    }
   ],
   "source": [
    "ret, image = cap.read()\n",
    "print(ret, image.shape)\n",
    "\n",
    "gray = cv2.cvtColor(image, cv2.COLOR_BGR2GRAY)\n",
    "rects =detector(gray,1)\n",
    "print(rects)\n",
    "for rect in rects:\n",
    "    shape = predictor(gray, rect)\n",
    "    shape_np = np.zeros( (68,2), dtype = 'int')\n",
    "    for i in range(0, 68):\n",
    "        shape_np[i] = (shape.part(i).x , shape.part(i).y)\n",
    "    shape = shape_np\n",
    "    \n",
    "    for i, (x,y) in enumerate(shape):\n",
    "        cv2.circle(image, (x,y), 1, (0,0,255), -1)\n",
    "    \n",
    "cv2.imshow('test',image)\n",
    "\n",
    "if cv2.waitkey(10) == 27:\n",
    "    break\n",
    "\n",
    "cap.release()"
   ]
  },
  {
   "cell_type": "code",
   "execution_count": 11,
   "metadata": {},
   "outputs": [],
   "source": [
    "cv2.destroyAllWindows() # closeed all windows"
   ]
  },
  {
   "cell_type": "code",
   "execution_count": null,
   "metadata": {},
   "outputs": [],
   "source": []
  }
 ],
 "metadata": {
  "interpreter": {
   "hash": "de95bf8ce29bf47d8cef7f3579a7ccec5208b8ca16c2cdd95dbf33e2d755019f"
  },
  "kernelspec": {
   "display_name": "Python 3.8.12 ('face')",
   "language": "python",
   "name": "python3"
  },
  "language_info": {
   "codemirror_mode": {
    "name": "ipython",
    "version": 3
   },
   "file_extension": ".py",
   "mimetype": "text/x-python",
   "name": "python",
   "nbconvert_exporter": "python",
   "pygments_lexer": "ipython3",
   "version": "3.8.12"
  },
  "orig_nbformat": 4
 },
 "nbformat": 4,
 "nbformat_minor": 2
}
